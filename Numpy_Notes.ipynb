{
  "nbformat": 4,
  "nbformat_minor": 0,
  "metadata": {
    "colab": {
      "provenance": []
    },
    "kernelspec": {
      "name": "python3",
      "display_name": "Python 3"
    },
    "language_info": {
      "name": "python"
    }
  },
  "cells": [
    {
      "cell_type": "markdown",
      "source": [
        "# Guide to Explore this NumPy Notes in Google Colab\n",
        "\n",
        "Welcome to the **NumPy** guide on by Aviral! This guide will help you efficiently explore and understand the code in your notebook.\n",
        "\n",
        "---\n",
        "\n",
        "## Steps to Explore the Notebook:\n",
        "\n",
        "### 1. **Run All Code Cells**\n",
        "- **Run all code cells at once** by going to the **Runtime** menu at the top of Google Colab.\n",
        "- Select **Run all** to execute the entire notebook.\n",
        "- Wait for the output of each cell to display before proceeding, as the computations will be performed sequentially.\n",
        "\n",
        "### 2. **Track Arrays and Shapes**\n",
        "- As the code runs, **keep track of the arrays** being created and printed. The shapes of the arrays are important to understand how they are structured.\n",
        "  \n",
        "**Example Arrays**:\n",
        "- `np1`, `np2`, `np3`, `np4`, etc., are all arrays with different shapes and values.\n",
        "- **Shape of an Array**: You can check the shape of any array by using `array.shape`.\n",
        "\n",
        "### 3. **Key Concepts to Understand**\n",
        "Focus on the following key concepts as you go through the notebook:\n",
        "\n",
        "- **Array Creation**: Understand how different types of arrays are created, such as:\n",
        "  - `np.array()`: Create an array from a list.\n",
        "  - `np.zeros()`: Create an array filled with zeros.\n",
        "  - `np.full()`: Create an array filled with a constant value.\n",
        "  - `np.arange()`: Create an array with a range of values.\n",
        "  \n",
        "- **Reshaping**: Learn how to reshape arrays to change their structure:\n",
        "  - **Example**: `np1.reshape(3, 4)` reshapes a 1D array into a 2D array with 3 rows and 4 columns.\n",
        "  \n",
        "- **Mathematical Functions**: Observe how you can perform mathematical operations on arrays:\n",
        "  - `np.sqrt()`, `np.exp()`, `np.log()`, `np.sin()`, etc., apply mathematical functions element-wise to arrays.\n",
        "  \n",
        "- **Sorting**: Understand how to sort arrays using `np.sort()` and see how the order of elements changes.\n",
        "  \n",
        "### 4. **Observe the Output**\n",
        "- After running each code cell, observe how the output changes:\n",
        "  - For example, after running `np1 = np.array([-2, -1, 0, 1, 2, 3, 4, 5, 6, 7, 8, 9])`, you will see the array printed.\n",
        "  - When performing operations like `np.sqrt(np1)`, notice how negative values are handled, or when performing `np.sort(npRandom)`, see how the array is rearranged.\n",
        "\n",
        "### 5. **Iteration and `np.where()`**\n",
        "- Pay attention to how iteration works in arrays:\n",
        "  - For 1D arrays, iteration is straightforward using a simple `for` loop.\n",
        "  - For multi-dimensional arrays, you can iterate over rows, columns, or deeper using nested loops or `np.nditer()`.\n",
        "  \n",
        "- **`np.where()`**: This function is useful for filtering arrays based on a condition.\n",
        "  - For example: `np.where(npRandom == 4)` returns the indices of the array where the value is 4.\n",
        "  - You can use `np.where()` to extract specific elements, like even numbers or prime numbers from an array.\n",
        "\n",
        "### 6. **Summary of Arrays and Shapes**\n",
        "- **1D Arrays**: `np1`, `np2`, `np3` (shapes like `(12,)`, `(10,)`, `(5,)`)\n",
        "- **2D Arrays**: `np2d`, reshaped arrays (shapes like `(2, 5)`, `(3, 4)`)\n",
        "- **3D Arrays**: `np3d` (shape like `(2, 2, 3)`)\n",
        "- **4D Arrays**: `np4d` (shape like `(1, 1, 1, 1, 1, 1, 1, 1, 10, 10)`)\n",
        "\n",
        "---\n",
        "\n",
        "By following these steps, you will gain a deep understanding of how NumPy arrays work, and how to efficiently manipulate them for your data science or machine learning tasks.\n",
        "\n",
        "\n",
        "\n",
        "\n",
        "\n"
      ],
      "metadata": {
        "id": "zYSXo3T5siJU"
      }
    },
    {
      "cell_type": "code",
      "execution_count": 1,
      "metadata": {
        "id": "Fxjue55sMhr6"
      },
      "outputs": [],
      "source": [
        "# Numpy = Numeric Python\n",
        "# Datatype = ndarray = n-dim array\n"
      ]
    },
    {
      "cell_type": "code",
      "source": [
        "import numpy as np"
      ],
      "metadata": {
        "id": "9qC3o9JtM-Gx"
      },
      "execution_count": 2,
      "outputs": []
    },
    {
      "cell_type": "code",
      "source": [
        "np1 = np.array([-2,-1,0,1,2,3,4,5,6,7,8,9])\n",
        "print(np1)"
      ],
      "metadata": {
        "colab": {
          "base_uri": "https://localhost:8080/"
        },
        "id": "dpqYe96iNCGR",
        "outputId": "cf77da3c-7a47-40c2-d178-dba338c68263"
      },
      "execution_count": 3,
      "outputs": [
        {
          "output_type": "stream",
          "name": "stdout",
          "text": [
            "[-2 -1  0  1  2  3  4  5  6  7  8  9]\n"
          ]
        }
      ]
    },
    {
      "cell_type": "code",
      "source": [
        "np1.shape #tells lenght"
      ],
      "metadata": {
        "colab": {
          "base_uri": "https://localhost:8080/"
        },
        "id": "vffniOIXNJyf",
        "outputId": "7d56d76c-c658-4289-e078-cba46a0f9c18"
      },
      "execution_count": 4,
      "outputs": [
        {
          "output_type": "execute_result",
          "data": {
            "text/plain": [
              "(12,)"
            ]
          },
          "metadata": {},
          "execution_count": 4
        }
      ]
    },
    {
      "cell_type": "code",
      "source": [
        "#Range\n",
        "np2 = np.arange(10) #np.arrange(last+1) \"default start = 0, step = 1\"\n",
        "print(np2)"
      ],
      "metadata": {
        "colab": {
          "base_uri": "https://localhost:8080/"
        },
        "id": "YmTEh-BHNSuZ",
        "outputId": "54b12a81-1126-48f6-982f-31d97a710dc8"
      },
      "execution_count": 5,
      "outputs": [
        {
          "output_type": "stream",
          "name": "stdout",
          "text": [
            "[0 1 2 3 4 5 6 7 8 9]\n"
          ]
        }
      ]
    },
    {
      "cell_type": "code",
      "source": [
        "#Step\n",
        "np3 = np.arange(10,20,2) #np.arrange(first, last+1, step)\n",
        "print(np3)"
      ],
      "metadata": {
        "colab": {
          "base_uri": "https://localhost:8080/"
        },
        "id": "uVz9fIEKNhKz",
        "outputId": "60159a06-5aee-45e2-e63c-6cab02be4bbc"
      },
      "execution_count": 6,
      "outputs": [
        {
          "output_type": "stream",
          "name": "stdout",
          "text": [
            "[10 12 14 16 18]\n"
          ]
        }
      ]
    },
    {
      "cell_type": "code",
      "source": [
        "np4 = np.zeros(10) #np.zeros(lenght)\n",
        "print(np4)"
      ],
      "metadata": {
        "colab": {
          "base_uri": "https://localhost:8080/"
        },
        "id": "gRv9ndTiN3Yh",
        "outputId": "18b97238-b2a3-47d2-99a0-7d510d53467b"
      },
      "execution_count": 7,
      "outputs": [
        {
          "output_type": "stream",
          "name": "stdout",
          "text": [
            "[0. 0. 0. 0. 0. 0. 0. 0. 0. 0.]\n"
          ]
        }
      ]
    },
    {
      "cell_type": "code",
      "source": [
        "#multiDimensional zeros\n",
        "np5 = np.zeros((2,4)) #np.zeros((row,column)) \"row= number of element in coloumn and vice versa\"\n",
        "print(np5)"
      ],
      "metadata": {
        "colab": {
          "base_uri": "https://localhost:8080/"
        },
        "id": "9PJXgXjEOVQe",
        "outputId": "45555d31-5dfb-4685-9358-c32d39fe9c51"
      },
      "execution_count": 8,
      "outputs": [
        {
          "output_type": "stream",
          "name": "stdout",
          "text": [
            "[[0. 0. 0. 0.]\n",
            " [0. 0. 0. 0.]]\n"
          ]
        }
      ]
    },
    {
      "cell_type": "code",
      "source": [
        "#Full\n",
        "np6 = np.full(3,5) #np.full((lenght ,value)\n",
        "print(np6)"
      ],
      "metadata": {
        "colab": {
          "base_uri": "https://localhost:8080/"
        },
        "id": "iJOD3321Oj22",
        "outputId": "99de4128-e798-4152-f1b0-09262bd921bc"
      },
      "execution_count": 9,
      "outputs": [
        {
          "output_type": "stream",
          "name": "stdout",
          "text": [
            "[5 5 5]\n"
          ]
        }
      ]
    },
    {
      "cell_type": "code",
      "source": [
        "#multidiemnsional Full\n",
        "np7 = np.full((2,3),5) #np.full((row,column),value)\n",
        "print(np7)"
      ],
      "metadata": {
        "colab": {
          "base_uri": "https://localhost:8080/"
        },
        "id": "aKlQQ70VPLq9",
        "outputId": "7609366e-1669-4bab-e746-3f82e082321f"
      },
      "execution_count": 10,
      "outputs": [
        {
          "output_type": "stream",
          "name": "stdout",
          "text": [
            "[[5 5 5]\n",
            " [5 5 5]]\n"
          ]
        }
      ]
    },
    {
      "cell_type": "code",
      "source": [
        "#convert python list to numpy\n",
        "list1 = [1,2,3,4,5]\n",
        "np8 = np.array(list1)\n",
        "print(np8)"
      ],
      "metadata": {
        "colab": {
          "base_uri": "https://localhost:8080/"
        },
        "id": "UTzwMfu4PqXi",
        "outputId": "f7773b3b-fa1b-4ef9-8bcf-6331bae13024"
      },
      "execution_count": 11,
      "outputs": [
        {
          "output_type": "stream",
          "name": "stdout",
          "text": [
            "[1 2 3 4 5]\n"
          ]
        }
      ]
    },
    {
      "cell_type": "code",
      "source": [
        "#slicing\n",
        "print(np1)\n",
        "print(\"slice from index 1 to 5:\",np1[1:6])"
      ],
      "metadata": {
        "id": "sHGox0prP-co",
        "colab": {
          "base_uri": "https://localhost:8080/"
        },
        "outputId": "6e0a490f-e6b9-423b-ec55-5c1329a188f2"
      },
      "execution_count": 12,
      "outputs": [
        {
          "output_type": "stream",
          "name": "stdout",
          "text": [
            "[-2 -1  0  1  2  3  4  5  6  7  8  9]\n",
            "slice from index 1 to 5: [-1  0  1  2  3]\n"
          ]
        }
      ]
    },
    {
      "cell_type": "code",
      "source": [
        "#return something till the end of the array\n",
        "print(np1[2:]) #from index 2 to end"
      ],
      "metadata": {
        "colab": {
          "base_uri": "https://localhost:8080/"
        },
        "id": "UBal4D0USLAf",
        "outputId": "006d3b93-1a5e-4aff-dc45-971882c67caf"
      },
      "execution_count": 13,
      "outputs": [
        {
          "output_type": "stream",
          "name": "stdout",
          "text": [
            "[0 1 2 3 4 5 6 7 8 9]\n"
          ]
        }
      ]
    },
    {
      "cell_type": "code",
      "source": [
        "#slicing with steps\n",
        "print(np1[1:6:2]) # first, last+step, step"
      ],
      "metadata": {
        "colab": {
          "base_uri": "https://localhost:8080/"
        },
        "id": "nQBJYtVASssT",
        "outputId": "ec75bd49-ba41-48fb-a70f-a10a798aa4d8"
      },
      "execution_count": 14,
      "outputs": [
        {
          "output_type": "stream",
          "name": "stdout",
          "text": [
            "[-1  1  3]\n"
          ]
        }
      ]
    },
    {
      "cell_type": "code",
      "source": [
        "#steps on the entire array\n",
        "print(np1[::2])"
      ],
      "metadata": {
        "colab": {
          "base_uri": "https://localhost:8080/"
        },
        "id": "-Ot5FnIRTMLJ",
        "outputId": "88f1393f-1dbd-4110-de0e-eebda033eea4"
      },
      "execution_count": 15,
      "outputs": [
        {
          "output_type": "stream",
          "name": "stdout",
          "text": [
            "[-2  0  2  4  6  8]\n"
          ]
        }
      ]
    },
    {
      "cell_type": "code",
      "source": [
        "#2d array\n",
        "np2d = np.array([[1,2,3,4,5],[6,7,8,9,10]]) #initially it was np9, so next you will see np10, np9 is not missing but just renamed... continue ;-)\n",
        "#pull out single item\n",
        "print(np2d[1,2]) #counting start from 0, so rows are 0 and 1, colmn are 0,1,2,3,4"
      ],
      "metadata": {
        "colab": {
          "base_uri": "https://localhost:8080/"
        },
        "id": "7uGmo2zWThnI",
        "outputId": "32b91c16-be8a-401f-ce51-4ebf02bae253"
      },
      "execution_count": 16,
      "outputs": [
        {
          "output_type": "stream",
          "name": "stdout",
          "text": [
            "8\n"
          ]
        }
      ]
    },
    {
      "cell_type": "code",
      "source": [
        " # slice a 2d array\n",
        "print(np2d[0:1,1:4]) #[rowStart:rowEnd+1,colmnStart:colmnEnd+1]"
      ],
      "metadata": {
        "colab": {
          "base_uri": "https://localhost:8080/"
        },
        "id": "q2IVOjuvUBkc",
        "outputId": "983bed40-4582-40b3-b64c-9135e1be1426"
      },
      "execution_count": 17,
      "outputs": [
        {
          "output_type": "stream",
          "name": "stdout",
          "text": [
            "[[2 3 4]]\n"
          ]
        }
      ]
    },
    {
      "cell_type": "code",
      "source": [
        "#slice from both rows\n",
        "print(np2d[0:2,1:3])\n"
      ],
      "metadata": {
        "colab": {
          "base_uri": "https://localhost:8080/"
        },
        "id": "d4iv7BKuVgS0",
        "outputId": "f66628dd-cacf-4d9b-b897-f370c321dad2"
      },
      "execution_count": 18,
      "outputs": [
        {
          "output_type": "stream",
          "name": "stdout",
          "text": [
            "[[2 3]\n",
            " [7 8]]\n"
          ]
        }
      ]
    },
    {
      "cell_type": "code",
      "source": [
        "#square root of each element\n",
        "print(np1)\n",
        "print(np.sqrt(np1))"
      ],
      "metadata": {
        "colab": {
          "base_uri": "https://localhost:8080/"
        },
        "id": "J3C1KTJOYmeZ",
        "outputId": "0f5f626d-6680-4e04-f40b-a4bb30edecc8"
      },
      "execution_count": 19,
      "outputs": [
        {
          "output_type": "stream",
          "name": "stdout",
          "text": [
            "[-2 -1  0  1  2  3  4  5  6  7  8  9]\n",
            "[       nan        nan 0.         1.         1.41421356 1.73205081\n",
            " 2.         2.23606798 2.44948974 2.64575131 2.82842712 3.        ]\n"
          ]
        },
        {
          "output_type": "stream",
          "name": "stderr",
          "text": [
            "<ipython-input-19-b53d06fe0d90>:3: RuntimeWarning: invalid value encountered in sqrt\n",
            "  print(np.sqrt(np1))\n"
          ]
        }
      ]
    },
    {
      "cell_type": "code",
      "source": [
        "#absolute value\n",
        "print(np.absolute(np.array(np1)))"
      ],
      "metadata": {
        "id": "D3C0cp42ajMl",
        "colab": {
          "base_uri": "https://localhost:8080/"
        },
        "outputId": "cca12548-348a-4b16-be4d-99e82790b785"
      },
      "execution_count": 20,
      "outputs": [
        {
          "output_type": "stream",
          "name": "stdout",
          "text": [
            "[2 1 0 1 2 3 4 5 6 7 8 9]\n"
          ]
        }
      ]
    },
    {
      "cell_type": "code",
      "source": [
        "#exponents\n",
        "print(np.exp(np1))"
      ],
      "metadata": {
        "colab": {
          "base_uri": "https://localhost:8080/"
        },
        "id": "HUwAjcnXF3oM",
        "outputId": "61715d8d-86bf-4454-dde2-79e60aa2b7fe"
      },
      "execution_count": 21,
      "outputs": [
        {
          "output_type": "stream",
          "name": "stdout",
          "text": [
            "[1.35335283e-01 3.67879441e-01 1.00000000e+00 2.71828183e+00\n",
            " 7.38905610e+00 2.00855369e+01 5.45981500e+01 1.48413159e+02\n",
            " 4.03428793e+02 1.09663316e+03 2.98095799e+03 8.10308393e+03]\n"
          ]
        }
      ]
    },
    {
      "cell_type": "code",
      "source": [
        "#min/max\n",
        "print(np.min(np1))\n",
        "print(np.max(np1))"
      ],
      "metadata": {
        "colab": {
          "base_uri": "https://localhost:8080/"
        },
        "id": "PVnIRPkdGUrW",
        "outputId": "2a751e81-5f65-4747-d7ca-d727f16be253"
      },
      "execution_count": 22,
      "outputs": [
        {
          "output_type": "stream",
          "name": "stdout",
          "text": [
            "-2\n",
            "9\n"
          ]
        }
      ]
    },
    {
      "cell_type": "code",
      "source": [
        "#sign positive or negative\n",
        "print(np.sign(np1))"
      ],
      "metadata": {
        "colab": {
          "base_uri": "https://localhost:8080/"
        },
        "id": "zBNU_FI9GY1U",
        "outputId": "3629b820-c527-4f31-8511-39a6abdef88b"
      },
      "execution_count": 23,
      "outputs": [
        {
          "output_type": "stream",
          "name": "stdout",
          "text": [
            "[-1 -1  0  1  1  1  1  1  1  1  1  1]\n"
          ]
        }
      ]
    },
    {
      "cell_type": "code",
      "source": [
        "#trigonometry\n",
        "print(np.sin(np1))\n",
        "print(np.cos(np1))\n",
        "print(np.tan(np1))"
      ],
      "metadata": {
        "colab": {
          "base_uri": "https://localhost:8080/"
        },
        "id": "jSbnFg7KGnFK",
        "outputId": "369b1a49-81c8-4da9-8635-b81bd54a2958"
      },
      "execution_count": 24,
      "outputs": [
        {
          "output_type": "stream",
          "name": "stdout",
          "text": [
            "[-0.90929743 -0.84147098  0.          0.84147098  0.90929743  0.14112001\n",
            " -0.7568025  -0.95892427 -0.2794155   0.6569866   0.98935825  0.41211849]\n",
            "[-0.41614684  0.54030231  1.          0.54030231 -0.41614684 -0.9899925\n",
            " -0.65364362  0.28366219  0.96017029  0.75390225 -0.14550003 -0.91113026]\n",
            "[ 2.18503986 -1.55740772  0.          1.55740772 -2.18503986 -0.14254654\n",
            "  1.15782128 -3.38051501 -0.29100619  0.87144798 -6.79971146 -0.45231566]\n"
          ]
        }
      ]
    },
    {
      "cell_type": "code",
      "source": [
        "#logarithm\n",
        "print(np.log(np1))\n"
      ],
      "metadata": {
        "colab": {
          "base_uri": "https://localhost:8080/"
        },
        "id": "jdWamSyPGtPq",
        "outputId": "a126eae6-01b5-42d6-9716-7da9005a1d98"
      },
      "execution_count": 25,
      "outputs": [
        {
          "output_type": "stream",
          "name": "stdout",
          "text": [
            "[       nan        nan       -inf 0.         0.69314718 1.09861229\n",
            " 1.38629436 1.60943791 1.79175947 1.94591015 2.07944154 2.19722458]\n"
          ]
        },
        {
          "output_type": "stream",
          "name": "stderr",
          "text": [
            "<ipython-input-25-17856149ea11>:2: RuntimeWarning: divide by zero encountered in log\n",
            "  print(np.log(np1))\n",
            "<ipython-input-25-17856149ea11>:2: RuntimeWarning: invalid value encountered in log\n",
            "  print(np.log(np1))\n"
          ]
        }
      ]
    },
    {
      "cell_type": "markdown",
      "source": [
        "For more Universal Functions;\n",
        "\n",
        "[Click Here](https://docs.scipy.org/doc/numpy-1.10.1/reference/ufuncs.html)"
      ],
      "metadata": {
        "id": "bbQKdkVmHGIf"
      }
    },
    {
      "cell_type": "code",
      "source": [
        "#copy vs view\n",
        "np10 = np.array([1,2,3,4,5,6,7,8,9,10])\n",
        "np10copy = np10.copy()\n",
        "np10view = np10.view()\n",
        "print(\"real:\", np10, \"\\ncopy:\", np10copy, \"\\nview:\", np10view)"
      ],
      "metadata": {
        "colab": {
          "base_uri": "https://localhost:8080/"
        },
        "id": "fPSpekM3HZ5_",
        "outputId": "5eb24726-d4eb-4bf7-8463-d902a3d21989"
      },
      "execution_count": 26,
      "outputs": [
        {
          "output_type": "stream",
          "name": "stdout",
          "text": [
            "real: [ 1  2  3  4  5  6  7  8  9 10] \n",
            "copy: [ 1  2  3  4  5  6  7  8  9 10] \n",
            "view: [ 1  2  3  4  5  6  7  8  9 10]\n"
          ]
        }
      ]
    },
    {
      "cell_type": "code",
      "source": [
        "np10[0] = 0\n",
        "np10[0] = 0\n",
        "print(\"real:\", np10, \"\\ncopy:\", np10copy, \"\\nview:\", np10view)"
      ],
      "metadata": {
        "colab": {
          "base_uri": "https://localhost:8080/"
        },
        "id": "CFbDQw8xmK2r",
        "outputId": "a05a1da7-cfd4-4858-df8e-70a996512e11"
      },
      "execution_count": 27,
      "outputs": [
        {
          "output_type": "stream",
          "name": "stdout",
          "text": [
            "real: [ 0  2  3  4  5  6  7  8  9 10] \n",
            "copy: [ 1  2  3  4  5  6  7  8  9 10] \n",
            "view: [ 0  2  3  4  5  6  7  8  9 10]\n"
          ]
        }
      ]
    },
    {
      "cell_type": "code",
      "source": [
        "np10copy[1] = 0\n",
        "print(\"real:\", np10, \"\\ncopy:\", np10copy, \"\\nview:\", np10view)"
      ],
      "metadata": {
        "colab": {
          "base_uri": "https://localhost:8080/"
        },
        "id": "3qYCdr9tnRWy",
        "outputId": "34736f9e-b027-445c-a1da-a22a7bdeb0cd"
      },
      "execution_count": 28,
      "outputs": [
        {
          "output_type": "stream",
          "name": "stdout",
          "text": [
            "real: [ 0  2  3  4  5  6  7  8  9 10] \n",
            "copy: [ 1  0  3  4  5  6  7  8  9 10] \n",
            "view: [ 0  2  3  4  5  6  7  8  9 10]\n"
          ]
        }
      ]
    },
    {
      "cell_type": "code",
      "source": [
        "np10view[0] = 33\n",
        "print(\"real:\", np10, \"\\ncopy:\", np10copy, \"\\nview:\", np10view)"
      ],
      "metadata": {
        "colab": {
          "base_uri": "https://localhost:8080/"
        },
        "id": "11XZ-Pe8oz_m",
        "outputId": "5594b87f-30d0-4457-9008-ffe37829eccf"
      },
      "execution_count": 29,
      "outputs": [
        {
          "output_type": "stream",
          "name": "stdout",
          "text": [
            "real: [33  2  3  4  5  6  7  8  9 10] \n",
            "copy: [ 1  0  3  4  5  6  7  8  9 10] \n",
            "view: [33  2  3  4  5  6  7  8  9 10]\n"
          ]
        }
      ]
    },
    {
      "cell_type": "code",
      "source": [
        "#3d array (row, row, colmn)\n",
        "np3d = np.array([[[1,2,3],[4,5,6]],[[7,8,9],[10,11,12]]])\n",
        "#4d array (row, row, row, colmn)\n",
        "np4d= np.array([[[[1,2,3],[4,5,6]],[[7,8,9],[10,11,12]]],[[[1,2,3],[4,5,6]],[[7,8,9],[10,11,12]]]])"
      ],
      "metadata": {
        "id": "KcINUQN4rRRW"
      },
      "execution_count": 30,
      "outputs": []
    },
    {
      "cell_type": "code",
      "source": [
        "#shapes of array\n",
        "print(\"1d:\", np1 ,\"shape:\",np1.shape)\n",
        "print(\"2d:\", np2d ,\"shape:\",np2d.shape)\n",
        "print(\"3d:\", np3d ,\"shape:\",np3d.shape)\n",
        "print(\"4d:\", np4d ,\"shape:\",np4d.shape)"
      ],
      "metadata": {
        "colab": {
          "base_uri": "https://localhost:8080/"
        },
        "id": "8BcLCm70pHH2",
        "outputId": "3b6fab75-120c-414a-c44e-b8d14576fe0e"
      },
      "execution_count": 31,
      "outputs": [
        {
          "output_type": "stream",
          "name": "stdout",
          "text": [
            "1d: [-2 -1  0  1  2  3  4  5  6  7  8  9] shape: (12,)\n",
            "2d: [[ 1  2  3  4  5]\n",
            " [ 6  7  8  9 10]] shape: (2, 5)\n",
            "3d: [[[ 1  2  3]\n",
            "  [ 4  5  6]]\n",
            "\n",
            " [[ 7  8  9]\n",
            "  [10 11 12]]] shape: (2, 2, 3)\n",
            "4d: [[[[ 1  2  3]\n",
            "   [ 4  5  6]]\n",
            "\n",
            "  [[ 7  8  9]\n",
            "   [10 11 12]]]\n",
            "\n",
            "\n",
            " [[[ 1  2  3]\n",
            "   [ 4  5  6]]\n",
            "\n",
            "  [[ 7  8  9]\n",
            "   [10 11 12]]]] shape: (2, 2, 2, 3)\n"
          ]
        }
      ]
    },
    {
      "cell_type": "code",
      "source": [
        "#reshaping\n",
        "np1dto2d = np1.reshape(2,6) #will throw error\n",
        "print(np1dto2d)"
      ],
      "metadata": {
        "colab": {
          "base_uri": "https://localhost:8080/"
        },
        "id": "6YAI-iRlqyIQ",
        "outputId": "e3b93fa2-e927-4aeb-856f-2c4f6d5925b3"
      },
      "execution_count": 32,
      "outputs": [
        {
          "output_type": "stream",
          "name": "stdout",
          "text": [
            "[[-2 -1  0  1  2  3]\n",
            " [ 4  5  6  7  8  9]]\n"
          ]
        }
      ]
    },
    {
      "cell_type": "code",
      "source": [
        "#1d to 2d\n",
        "print(\"12:\\n\",np1)\n",
        "np1dto2d = np1.reshape(3,4)\n",
        "print(\"3x4:\\n\",np1dto2d)\n",
        "np1dto2d = np1.reshape(6,2)\n",
        "print(\"6x2:\\n\",np1dto2d)\n",
        "#3x4 = 6x2 = 12"
      ],
      "metadata": {
        "colab": {
          "base_uri": "https://localhost:8080/"
        },
        "id": "fLsG7pcQuudM",
        "outputId": "27ec1df4-3bfc-4ca8-c98d-8f8205ece157"
      },
      "execution_count": 33,
      "outputs": [
        {
          "output_type": "stream",
          "name": "stdout",
          "text": [
            "12:\n",
            " [-2 -1  0  1  2  3  4  5  6  7  8  9]\n",
            "3x4:\n",
            " [[-2 -1  0  1]\n",
            " [ 2  3  4  5]\n",
            " [ 6  7  8  9]]\n",
            "6x2:\n",
            " [[-2 -1]\n",
            " [ 0  1]\n",
            " [ 2  3]\n",
            " [ 4  5]\n",
            " [ 6  7]\n",
            " [ 8  9]]\n"
          ]
        }
      ]
    },
    {
      "cell_type": "code",
      "source": [
        "#1d to 3d\n",
        "np1dto3d = np1.reshape(2,2,3)\n",
        "print(np1dto3d)\n",
        "#2x2x3=12"
      ],
      "metadata": {
        "colab": {
          "base_uri": "https://localhost:8080/"
        },
        "id": "XR1zzs0Su3BT",
        "outputId": "83623636-536c-4a05-add6-a10eaa1f8588"
      },
      "execution_count": 34,
      "outputs": [
        {
          "output_type": "stream",
          "name": "stdout",
          "text": [
            "[[[-2 -1  0]\n",
            "  [ 1  2  3]]\n",
            "\n",
            " [[ 4  5  6]\n",
            "  [ 7  8  9]]]\n"
          ]
        }
      ]
    },
    {
      "cell_type": "code",
      "source": [
        "#flatten to 3d to 1d\n",
        "np3dto1d = np3d.reshape(-1)\n",
        "print(np3dto1d)"
      ],
      "metadata": {
        "colab": {
          "base_uri": "https://localhost:8080/"
        },
        "id": "oTx_82ilv4j4",
        "outputId": "ac35c023-f655-4664-c834-bccfb11ed94e"
      },
      "execution_count": 35,
      "outputs": [
        {
          "output_type": "stream",
          "name": "stdout",
          "text": [
            "[ 1  2  3  4  5  6  7  8  9 10 11 12]\n"
          ]
        }
      ]
    },
    {
      "cell_type": "code",
      "source": [
        "#3d to 2d\n",
        "np3dto2d = np3d.reshape(2,2*3) # or (2,6)\n",
        "print(np3dto2d)"
      ],
      "metadata": {
        "colab": {
          "base_uri": "https://localhost:8080/"
        },
        "id": "Tfp-XyYuwpZJ",
        "outputId": "58d3d40e-7f2e-47bc-ef90-ec12d48cb679"
      },
      "execution_count": 36,
      "outputs": [
        {
          "output_type": "stream",
          "name": "stdout",
          "text": [
            "[[ 1  2  3  4  5  6]\n",
            " [ 7  8  9 10 11 12]]\n"
          ]
        }
      ]
    },
    {
      "cell_type": "code",
      "source": [
        "#iterating through 1d array\n",
        "for x in np1:\n",
        "    print(x)"
      ],
      "metadata": {
        "colab": {
          "base_uri": "https://localhost:8080/"
        },
        "id": "pCiWwR1yxXzM",
        "outputId": "86c882c6-5a6b-43e2-9098-a7570f52c262"
      },
      "execution_count": 37,
      "outputs": [
        {
          "output_type": "stream",
          "name": "stdout",
          "text": [
            "-2\n",
            "-1\n",
            "0\n",
            "1\n",
            "2\n",
            "3\n",
            "4\n",
            "5\n",
            "6\n",
            "7\n",
            "8\n",
            "9\n"
          ]
        }
      ]
    },
    {
      "cell_type": "code",
      "source": [
        "#iterating through 2d array\n",
        "for x in np2d:\n",
        "    print(x) #x = rows"
      ],
      "metadata": {
        "colab": {
          "base_uri": "https://localhost:8080/"
        },
        "id": "GBjn1AMoyKs1",
        "outputId": "aab785a0-3406-4cc1-d023-af5e976329f1"
      },
      "execution_count": 38,
      "outputs": [
        {
          "output_type": "stream",
          "name": "stdout",
          "text": [
            "[1 2 3 4 5]\n",
            "[ 6  7  8  9 10]\n"
          ]
        }
      ]
    },
    {
      "cell_type": "code",
      "source": [
        "#iterating through 2d array deeper\n",
        "for x in np2d:\n",
        "    for y in x:\n",
        "        print(y)"
      ],
      "metadata": {
        "colab": {
          "base_uri": "https://localhost:8080/"
        },
        "id": "mfUkZOtnyQN7",
        "outputId": "159d6a09-5046-406c-8691-e0ff081d94d9"
      },
      "execution_count": 39,
      "outputs": [
        {
          "output_type": "stream",
          "name": "stdout",
          "text": [
            "1\n",
            "2\n",
            "3\n",
            "4\n",
            "5\n",
            "6\n",
            "7\n",
            "8\n",
            "9\n",
            "10\n"
          ]
        }
      ]
    },
    {
      "cell_type": "code",
      "source": [
        "#iterating through 3d array\n",
        "for x in np3d:\n",
        "    print(x)"
      ],
      "metadata": {
        "colab": {
          "base_uri": "https://localhost:8080/"
        },
        "id": "krV05iTQyb7k",
        "outputId": "f955919a-1702-4faf-df00-458451a57087"
      },
      "execution_count": 40,
      "outputs": [
        {
          "output_type": "stream",
          "name": "stdout",
          "text": [
            "[[1 2 3]\n",
            " [4 5 6]]\n",
            "[[ 7  8  9]\n",
            " [10 11 12]]\n"
          ]
        }
      ]
    },
    {
      "cell_type": "code",
      "source": [
        "#iterating through 3d array deeper\n",
        "for x in np3d:\n",
        "    for y in x:\n",
        "        print(y)"
      ],
      "metadata": {
        "colab": {
          "base_uri": "https://localhost:8080/"
        },
        "id": "CvwieTzwzHUb",
        "outputId": "eae71dbd-f19c-4ceb-e4ee-66fb2225c705"
      },
      "execution_count": 41,
      "outputs": [
        {
          "output_type": "stream",
          "name": "stdout",
          "text": [
            "[1 2 3]\n",
            "[4 5 6]\n",
            "[7 8 9]\n",
            "[10 11 12]\n"
          ]
        }
      ]
    },
    {
      "cell_type": "code",
      "source": [
        "#iterating through 3d array more deeper\n",
        "for x in np3d:\n",
        "    for y in x:\n",
        "        for z in y:\n",
        "            print(z) #getting complex??"
      ],
      "metadata": {
        "colab": {
          "base_uri": "https://localhost:8080/"
        },
        "id": "aCfLKfm3zNGn",
        "outputId": "85debcbf-bfbc-4d93-eafd-dc9700c11841"
      },
      "execution_count": 42,
      "outputs": [
        {
          "output_type": "stream",
          "name": "stdout",
          "text": [
            "1\n",
            "2\n",
            "3\n",
            "4\n",
            "5\n",
            "6\n",
            "7\n",
            "8\n",
            "9\n",
            "10\n",
            "11\n",
            "12\n"
          ]
        }
      ]
    },
    {
      "cell_type": "code",
      "source": [
        "#easier way\n",
        "for x in np.nditer(np3d):\n",
        "    print(x)"
      ],
      "metadata": {
        "colab": {
          "base_uri": "https://localhost:8080/"
        },
        "id": "kiVud9lNzQ3m",
        "outputId": "fa58ff64-4358-4235-8cf2-99aa47e44f04"
      },
      "execution_count": 43,
      "outputs": [
        {
          "output_type": "stream",
          "name": "stdout",
          "text": [
            "1\n",
            "2\n",
            "3\n",
            "4\n",
            "5\n",
            "6\n",
            "7\n",
            "8\n",
            "9\n",
            "10\n",
            "11\n",
            "12\n"
          ]
        }
      ]
    },
    {
      "cell_type": "code",
      "source": [
        "#making a 10-d array for fun and using nditer!\n",
        "np10d = np.arange(100).reshape((1, 1, 1, 1, 1, 1, 1, 1, 10, 10))\n",
        "\n",
        "print(\"Shape:\", np10d.shape)\n",
        "# Using nditer to iterate through each element in the 10D array\n",
        "for x in np.nditer(np10d):\n",
        "    print(x)\n"
      ],
      "metadata": {
        "colab": {
          "base_uri": "https://localhost:8080/"
        },
        "collapsed": true,
        "id": "EJo_BUN5zmaL",
        "outputId": "2b3cb5c8-bb25-4823-a1f4-68e7b56a4801"
      },
      "execution_count": 44,
      "outputs": [
        {
          "output_type": "stream",
          "name": "stdout",
          "text": [
            "Shape: (1, 1, 1, 1, 1, 1, 1, 1, 10, 10)\n",
            "0\n",
            "1\n",
            "2\n",
            "3\n",
            "4\n",
            "5\n",
            "6\n",
            "7\n",
            "8\n",
            "9\n",
            "10\n",
            "11\n",
            "12\n",
            "13\n",
            "14\n",
            "15\n",
            "16\n",
            "17\n",
            "18\n",
            "19\n",
            "20\n",
            "21\n",
            "22\n",
            "23\n",
            "24\n",
            "25\n",
            "26\n",
            "27\n",
            "28\n",
            "29\n",
            "30\n",
            "31\n",
            "32\n",
            "33\n",
            "34\n",
            "35\n",
            "36\n",
            "37\n",
            "38\n",
            "39\n",
            "40\n",
            "41\n",
            "42\n",
            "43\n",
            "44\n",
            "45\n",
            "46\n",
            "47\n",
            "48\n",
            "49\n",
            "50\n",
            "51\n",
            "52\n",
            "53\n",
            "54\n",
            "55\n",
            "56\n",
            "57\n",
            "58\n",
            "59\n",
            "60\n",
            "61\n",
            "62\n",
            "63\n",
            "64\n",
            "65\n",
            "66\n",
            "67\n",
            "68\n",
            "69\n",
            "70\n",
            "71\n",
            "72\n",
            "73\n",
            "74\n",
            "75\n",
            "76\n",
            "77\n",
            "78\n",
            "79\n",
            "80\n",
            "81\n",
            "82\n",
            "83\n",
            "84\n",
            "85\n",
            "86\n",
            "87\n",
            "88\n",
            "89\n",
            "90\n",
            "91\n",
            "92\n",
            "93\n",
            "94\n",
            "95\n",
            "96\n",
            "97\n",
            "98\n",
            "99\n"
          ]
        }
      ]
    },
    {
      "cell_type": "code",
      "source": [
        "# sorting in numpy\n",
        "npRandom = np.array([2,4,2,7,3,4,6,8,9,4,2,4,5,6,7,89,3,22,34,5,56,5,44]) #numerical\n",
        "npRandom_Sorted = np.sort(npRandom)\n",
        "print(\"random:\",npRandom)\n",
        "print(\"sorted:\",npRandom_Sorted)"
      ],
      "metadata": {
        "colab": {
          "base_uri": "https://localhost:8080/"
        },
        "id": "csnNqkfz2O6-",
        "outputId": "bd934b1e-2ac5-4a44-df29-add15c49cac1"
      },
      "execution_count": 45,
      "outputs": [
        {
          "output_type": "stream",
          "name": "stdout",
          "text": [
            "random: [ 2  4  2  7  3  4  6  8  9  4  2  4  5  6  7 89  3 22 34  5 56  5 44]\n",
            "sorted: [ 2  2  2  3  3  4  4  4  4  5  5  5  6  6  7  7  8  9 22 34 44 56 89]\n"
          ]
        }
      ]
    },
    {
      "cell_type": "code",
      "source": [
        "npNames = np.array([\"Zoya\",\"Rahul\", \"Abhay\",\"Vaibhav\",\"Seema\", \"Ansh\"]) #string\n",
        "print(\"random:\",npNames)\n",
        "print(\"sorter:\",np.sort(npNames))\n"
      ],
      "metadata": {
        "colab": {
          "base_uri": "https://localhost:8080/"
        },
        "id": "dnvFKT714YBy",
        "outputId": "bf19d288-106b-441e-e53c-d587fcc9d3e4"
      },
      "execution_count": 46,
      "outputs": [
        {
          "output_type": "stream",
          "name": "stdout",
          "text": [
            "random: ['Zoya' 'Rahul' 'Abhay' 'Vaibhav' 'Seema' 'Ansh']\n",
            "sorter: ['Abhay' 'Ansh' 'Rahul' 'Seema' 'Vaibhav' 'Zoya']\n"
          ]
        }
      ]
    },
    {
      "cell_type": "code",
      "source": [
        "#sorting true false\n",
        "npBool = np.array([True, False, True, False, True])\n",
        "print(\"random:\",npBool)\n",
        "print(\"sorter:\",np.sort(npBool))"
      ],
      "metadata": {
        "colab": {
          "base_uri": "https://localhost:8080/"
        },
        "id": "K9QMj9z75qZV",
        "outputId": "a56ef8d3-e49f-4ea2-91f2-4617f27ce46d"
      },
      "execution_count": 47,
      "outputs": [
        {
          "output_type": "stream",
          "name": "stdout",
          "text": [
            "random: [ True False  True False  True]\n",
            "sorter: [False False  True  True  True]\n"
          ]
        }
      ]
    },
    {
      "cell_type": "code",
      "source": [
        "#return a copy not change original after sorting\n",
        "print(np.sort(npNames))\n",
        "print(npNames)"
      ],
      "metadata": {
        "colab": {
          "base_uri": "https://localhost:8080/"
        },
        "id": "wXn4wGAG7ohX",
        "outputId": "1e18d64c-c02b-4e19-b205-7e1cddd310ff"
      },
      "execution_count": 48,
      "outputs": [
        {
          "output_type": "stream",
          "name": "stdout",
          "text": [
            "['Abhay' 'Ansh' 'Rahul' 'Seema' 'Vaibhav' 'Zoya']\n",
            "['Zoya' 'Rahul' 'Abhay' 'Vaibhav' 'Seema' 'Ansh']\n"
          ]
        }
      ]
    },
    {
      "cell_type": "code",
      "source": [
        "#sorting 2d array\n",
        "np2d_random = np.array([[2,4,2,7,3],[4,6,8,9,4],[2,4,2,7,3], [4,6,8,9,4],[2,4,2,7,3]])\n",
        "print(\"random:\\n\",np2d_random)\n",
        "print(\"sorted:\\n\",np.sort(np2d_random))"
      ],
      "metadata": {
        "colab": {
          "base_uri": "https://localhost:8080/"
        },
        "id": "e3npKL2O78kN",
        "outputId": "e3922e84-1a16-4600-f3b9-212001c1315b"
      },
      "execution_count": 49,
      "outputs": [
        {
          "output_type": "stream",
          "name": "stdout",
          "text": [
            "random:\n",
            " [[2 4 2 7 3]\n",
            " [4 6 8 9 4]\n",
            " [2 4 2 7 3]\n",
            " [4 6 8 9 4]\n",
            " [2 4 2 7 3]]\n",
            "sorted:\n",
            " [[2 2 3 4 7]\n",
            " [4 4 6 8 9]\n",
            " [2 2 3 4 7]\n",
            " [4 4 6 8 9]\n",
            " [2 2 3 4 7]]\n"
          ]
        }
      ]
    },
    {
      "cell_type": "code",
      "source": [
        "#finding index number of an element of array\n",
        "print(np1)\n",
        "x = np.where(np1 == 3) #return tuple of index\n",
        "print(x)"
      ],
      "metadata": {
        "id": "SZNCApOH8vwc",
        "colab": {
          "base_uri": "https://localhost:8080/"
        },
        "outputId": "e539ec3a-b93c-495f-d9c9-b3fb4efebbb3"
      },
      "execution_count": 51,
      "outputs": [
        {
          "output_type": "stream",
          "name": "stdout",
          "text": [
            "[-2 -1  0  1  2  3  4  5  6  7  8  9]\n",
            "(array([5]),)\n"
          ]
        }
      ]
    },
    {
      "cell_type": "code",
      "source": [
        "#get only index number than tuple\n",
        "print(x[0])"
      ],
      "metadata": {
        "colab": {
          "base_uri": "https://localhost:8080/"
        },
        "id": "Dr-8utTgh7RV",
        "outputId": "64056e78-cac5-4b29-f615-e38a75a14713"
      },
      "execution_count": 53,
      "outputs": [
        {
          "output_type": "stream",
          "name": "stdout",
          "text": [
            "[5]\n"
          ]
        }
      ]
    },
    {
      "cell_type": "code",
      "source": [
        "#what if we print xth element of np1?\n",
        "print(np1[x])"
      ],
      "metadata": {
        "colab": {
          "base_uri": "https://localhost:8080/"
        },
        "id": "rJSum0fIiptB",
        "outputId": "898a79df-d732-4ddb-cad3-5427a7ac1b4a"
      },
      "execution_count": 54,
      "outputs": [
        {
          "output_type": "stream",
          "name": "stdout",
          "text": [
            "[3]\n"
          ]
        }
      ]
    },
    {
      "cell_type": "code",
      "source": [
        "#if more than 1 same element exists in a array\n",
        "print(np.where(npRandom == 4)[0])"
      ],
      "metadata": {
        "colab": {
          "base_uri": "https://localhost:8080/"
        },
        "id": "Im7coBdni4Vg",
        "outputId": "b4453fcc-5fbe-4a85-a076-db08b15524a8"
      },
      "execution_count": 56,
      "outputs": [
        {
          "output_type": "stream",
          "name": "stdout",
          "text": [
            "[ 1  5  9 11]\n"
          ]
        }
      ]
    },
    {
      "cell_type": "code",
      "source": [
        "# Finds and prints all occurrences of the value 4 in the npRandom array\n",
        "print(npRandom[np.where(npRandom == 4)])"
      ],
      "metadata": {
        "colab": {
          "base_uri": "https://localhost:8080/"
        },
        "id": "wOU_EfGQjIRp",
        "outputId": "11be55e4-8bae-45e2-cbe5-91833e5d09fb"
      },
      "execution_count": 57,
      "outputs": [
        {
          "output_type": "stream",
          "name": "stdout",
          "text": [
            "[4 4 4 4]\n"
          ]
        }
      ]
    },
    {
      "cell_type": "code",
      "source": [
        "#return only even numbers\n",
        "print(npRandom[np.where(npRandom % 2 == 0)])"
      ],
      "metadata": {
        "colab": {
          "base_uri": "https://localhost:8080/"
        },
        "id": "FXSLWJoRjltZ",
        "outputId": "71009c10-787d-46a4-ca94-224d8c88c3a4"
      },
      "execution_count": 58,
      "outputs": [
        {
          "output_type": "stream",
          "name": "stdout",
          "text": [
            "[ 2  4  2  4  6  8  4  2  4  6 22 34 56 44]\n"
          ]
        }
      ]
    },
    {
      "cell_type": "code",
      "source": [
        "#return only odd numbers using where function!\n",
        "print(npRandom[np.where(npRandom % 2 != 0)]) #remember where fn returns only index numbers, but we can get corresponding elements.\n"
      ],
      "metadata": {
        "colab": {
          "base_uri": "https://localhost:8080/"
        },
        "id": "0LP__ZWakOfQ",
        "outputId": "e40c8536-9f0c-4ce4-cc5e-fd9498aa836a"
      },
      "execution_count": 63,
      "outputs": [
        {
          "output_type": "stream",
          "name": "stdout",
          "text": [
            "[ 7  3  9  5  7 89  3  5  5]\n"
          ]
        }
      ]
    },
    {
      "cell_type": "code",
      "source": [
        "#filtering Numpy Arrays with Boolean Index Lists.\n",
        "np11 = np.array([0,9,8,7,6,5,4,3,2,1])\n",
        "print(np11)\n",
        "x = [True, False, True, False, True, False, True, False, True, False] # Defines a list x of boolean values; these will act as a mask for selecting elements from np11 (Keep True, remove False)\n",
        "print(np11[x])"
      ],
      "metadata": {
        "colab": {
          "base_uri": "https://localhost:8080/"
        },
        "id": "GvQYAV0yk-M8",
        "outputId": "bf282572-6e62-404b-bf8a-0321d6c7ec71"
      },
      "execution_count": 66,
      "outputs": [
        {
          "output_type": "stream",
          "name": "stdout",
          "text": [
            "[0 9 8 7 6 5 4 3 2 1]\n",
            "[0 8 6 4 2]\n"
          ]
        }
      ]
    },
    {
      "cell_type": "code",
      "source": [
        "# Writing an loop to make a boolean index list to filter out every other number than prime number\n",
        "x = []\n",
        "for i in npRandom:\n",
        "  for j in range(2, i):\n",
        "    if i % j == 0:\n",
        "      x.append(False)\n",
        "      break\n",
        "  else:\n",
        "    x.append(True)\n",
        "print(x)"
      ],
      "metadata": {
        "colab": {
          "base_uri": "https://localhost:8080/"
        },
        "id": "OrdG8vCNmQdE",
        "outputId": "0dfde7f4-63e9-4e30-fdb4-f8dbc04627d3"
      },
      "execution_count": 71,
      "outputs": [
        {
          "output_type": "stream",
          "name": "stdout",
          "text": [
            "[True, False, True, True, True, False, False, False, False, False, True, False, True, False, True, True, True, False, False, True, False, True, False]\n"
          ]
        }
      ]
    },
    {
      "cell_type": "code",
      "source": [
        "print(npRandom[x])"
      ],
      "metadata": {
        "colab": {
          "base_uri": "https://localhost:8080/"
        },
        "id": "Us0IEOLMoQWe",
        "outputId": "80068dcd-328b-4a78-f0f4-af1cf0967fac"
      },
      "execution_count": 72,
      "outputs": [
        {
          "output_type": "stream",
          "name": "stdout",
          "text": [
            "[ 2  2  7  3  2  5  7 89  3  5  5]\n"
          ]
        }
      ]
    },
    {
      "cell_type": "code",
      "source": [
        "#shortcut\n",
        "x = npRandom % 2 == 0\n",
        "print(x)\n",
        "print(npRandom[x])"
      ],
      "metadata": {
        "colab": {
          "base_uri": "https://localhost:8080/"
        },
        "id": "SYM9JXHToo5y",
        "outputId": "3860ebf4-f0d6-4f24-cc19-8892093c9d0b"
      },
      "execution_count": 74,
      "outputs": [
        {
          "output_type": "stream",
          "name": "stdout",
          "text": [
            "[ True  True  True False False  True  True  True False  True  True  True\n",
            " False  True False False False  True  True False  True False  True]\n",
            "[ 2  4  2  4  6  8  4  2  4  6 22 34 56 44]\n"
          ]
        }
      ]
    },
    {
      "cell_type": "markdown",
      "source": [
        "# **Happy learning!**\n",
        "[*Click here for more content from me!*](https://aviral.code.blog)"
      ],
      "metadata": {
        "id": "oumlUdoOrDal"
      }
    }
  ]
}